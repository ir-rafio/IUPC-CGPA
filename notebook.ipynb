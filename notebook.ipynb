{
  "cells": [
    {
      "cell_type": "markdown",
      "metadata": {},
      "source": [
        "# Import Libraries"
      ]
    },
    {
      "cell_type": "code",
      "execution_count": null,
      "metadata": {
        "id": "pXVIs4Jn6LtB"
      },
      "outputs": [],
      "source": [
        "from abc import ABC, abstractmethod\n",
        "from bs4 import BeautifulSoup\n",
        "\n",
        "import regex as re\n",
        "import json\n",
        "import heapq\n",
        "import os\n",
        "\n",
        "import numpy as np\n",
        "import pandas as pd"
      ]
    },
    {
      "cell_type": "markdown",
      "metadata": {},
      "source": [
        "# Define Team Class"
      ]
    },
    {
      "cell_type": "code",
      "execution_count": null,
      "metadata": {
        "id": "af2yLZmq-YIk"
      },
      "outputs": [],
      "source": [
        "class Team:\n",
        "    def __init__(self, rank, name, institution, solved, penalty, first_solve_count):\n",
        "        self.rank = rank\n",
        "        self.name = name\n",
        "        self.institution = institution.upper()\n",
        "        self.solved = solved\n",
        "        self.penalty = penalty\n",
        "        self.first_solve_count = first_solve_count\n",
        "\n",
        "    def __lt__(self, other):\n",
        "        if not isinstance(other, Team): return NotImplemented\n",
        "        return self.rank < other.rank\n",
        "\n",
        "    def __repr__(self):\n",
        "        return json.dumps(self.__dict__)"
      ]
    },
    {
      "cell_type": "markdown",
      "metadata": {},
      "source": [
        "# Define ContestParser Class"
      ]
    },
    {
      "cell_type": "code",
      "execution_count": null,
      "metadata": {
        "id": "rnLgs6ytFJte"
      },
      "outputs": [],
      "source": [
        "class ContestParser(ABC):\n",
        "    _parsers = {}\n",
        "\n",
        "    def parse(self, filepaths):\n",
        "        team_list = []\n",
        "        for filepath in filepaths:\n",
        "            team_list.extend(self.parseFile(filepath))\n",
        "        return team_list\n",
        "\n",
        "    @abstractmethod\n",
        "    def parseFile(self, filepath):\n",
        "        \"\"\"\n",
        "        Parses a single HTML file containing contest standings and returns a list of Team objects.\n",
        "\n",
        "        Args:\n",
        "            filepath (str): Path to the HTML file containing the contest data.\n",
        "\n",
        "        Returns:\n",
        "            list[Team]: A list of Team objects.\n",
        "        \"\"\"\n",
        "        pass\n",
        "\n",
        "    @classmethod\n",
        "    def get_parser(cls, key):\n",
        "        \"\"\"\n",
        "        Returns a parser instance for the given key.\n",
        "\n",
        "        Args:\n",
        "            key (str): The key identifying the parser.\n",
        "\n",
        "        Returns:\n",
        "            ContestParser: The parser instance corresponding to the key.\n",
        "        \"\"\"\n",
        "        key = key.upper()\n",
        "        if key not in cls._parsers: raise ValueError(f\"No parser found for key: {key}\")\n",
        "\n",
        "        return cls._parsers[key]\n",
        "\n",
        "    @classmethod\n",
        "    def register_parser(cls, key, parser_instance):\n",
        "        \"\"\"\n",
        "        Registers a parser instance with the specified key.\n",
        "\n",
        "        Args:\n",
        "            key (str): The key to associate with the parser.\n",
        "            parser_instance (ContestParser): The parser instance to register.\n",
        "        \"\"\"\n",
        "        if key.upper() in cls._parsers: raise ValueError(f\"Parser for key '{key}' is already registered.\")\n",
        "\n",
        "        cls._parsers[key.upper()] = parser_instance"
      ]
    },
    {
      "cell_type": "markdown",
      "metadata": {},
      "source": [
        "## Define Implementations of ContestParser Class"
      ]
    },
    {
      "cell_type": "code",
      "execution_count": null,
      "metadata": {
        "id": "yJOS5uLpKOAv"
      },
      "outputs": [],
      "source": [
        "class TophParser(ContestParser):\n",
        "    def parseFile(self, filepath):\n",
        "        with open(filepath, \"r\", encoding=\"utf-8\") as file:\n",
        "            contest_html = file.read()\n",
        "\n",
        "        soup = BeautifulSoup(contest_html, \"html.parser\")\n",
        "        table = soup.find(\"table\")\n",
        "        if not table: raise ValueError(\"No table found in the HTML document.\")\n",
        "\n",
        "        rows = table.find_all(\"tr\")\n",
        "        team_list = []\n",
        "\n",
        "        for row in rows[1:]:\n",
        "            cells = row.find_all(\"td\")\n",
        "            if len(cells) < 3: continue\n",
        "\n",
        "            try:\n",
        "                rank = int(cells[0].get_text(strip=True))\n",
        "\n",
        "                team_name = cells[1].contents[0].strip()\n",
        "                institution_div = cells[1].find(\"div\", class_=\"adjunct\")\n",
        "                institution = institution_div.get_text(strip=True) if institution_div else \"\"\n",
        "\n",
        "                solve_count = int(cells[2].find(\"strong\").get_text(strip=True))\n",
        "                penalty_text = cells[2].find(\"div\", class_=\"adjunct\").get(\"data-tippy-content\")\n",
        "                penalty = int(re.search(r\"Penalty: (\\d+)\", penalty_text).group(1))\n",
        "\n",
        "                first_solve_count = sum(\n",
        "                    1 for cell in cells[3:]\n",
        "                    if cell.find(\"img\", class_=\"icon green\") and\n",
        "                    cell.find(\"img\", class_=\"icon green\").get(\"data-tippy-content\") == \"First to Solve\"\n",
        "                )\n",
        "\n",
        "                team = Team(\n",
        "                    name=team_name,\n",
        "                    institution=institution,\n",
        "                    rank=rank,\n",
        "                    solved=solve_count,\n",
        "                    penalty=penalty,\n",
        "                    first_solve_count=first_solve_count,\n",
        "                )\n",
        "                team_list.append(team)\n",
        "            except Exception as e:\n",
        "                print(f\"Error processing row: {row}\")\n",
        "                print(e)\n",
        "\n",
        "        return team_list\n",
        "\n",
        "ContestParser.register_parser(\"toph\", TophParser())"
      ]
    },
    {
      "cell_type": "code",
      "execution_count": null,
      "metadata": {
        "id": "c6m3kFnfFPXH"
      },
      "outputs": [],
      "source": [
        "class BAPSparser(ContestParser):\n",
        "    def parseFile(self, filepath):\n",
        "        with open(filepath, \"r\", encoding=\"utf-8\") as file:\n",
        "            contest_html = file.read()\n",
        "\n",
        "        soup = BeautifulSoup(contest_html, \"html.parser\")\n",
        "        table = soup.find(\"table\")\n",
        "        if not table: raise ValueError(\"No table found in the HTML document.\")\n",
        "\n",
        "        rows = table.find_all(\"tr\")\n",
        "        team_list = []\n",
        "\n",
        "        for row in rows[1:]:\n",
        "            cells = row.find_all(\"td\")\n",
        "            if len(cells) < 3: continue\n",
        "\n",
        "            try:\n",
        "                rank = int(cells[0].get_text(strip=True))\n",
        "                team_name = cells[1].find(\"strong\").get_text(strip=True)\n",
        "                institution_div = cells[1].find(\"div\")\n",
        "                institution = institution_div.get_text(strip=True) if institution_div else \"\"\n",
        "                solve_count_text = cells[2].get_text(strip=True)\n",
        "                solve_count = int(re.search(r\"(\\d+)\", solve_count_text).group(1))\n",
        "                penalty = int(re.search(r\"\\((\\d+)\\)\", solve_count_text).group(1))\n",
        "                first_solve_count = sum(\n",
        "                    1 for cell in cells[3:]\n",
        "                    if cell.find(\"div\", style=re.compile(r\"animation:.*shine.*\"))\n",
        "                )\n",
        "\n",
        "                team = Team(\n",
        "                    name=team_name,\n",
        "                    institution=institution,\n",
        "                    rank=rank,\n",
        "                    solved=solve_count,\n",
        "                    penalty=penalty,\n",
        "                    first_solve_count=first_solve_count,\n",
        "                )\n",
        "                team_list.append(team)\n",
        "            except Exception as e:\n",
        "                print(f\"Error processing row: {row}\")\n",
        "                print(e)\n",
        "\n",
        "        return team_list\n",
        "\n",
        "ContestParser.register_parser(\"baps\", BAPSparser())"
      ]
    },
    {
      "cell_type": "markdown",
      "metadata": {},
      "source": [
        "# Define Contest Class"
      ]
    },
    {
      "cell_type": "code",
      "execution_count": null,
      "metadata": {
        "id": "HxqFNtuJKoP2"
      },
      "outputs": [],
      "source": [
        "class Contest:\n",
        "    def __init__(self, name, filepaths, parser):\n",
        "        if not isinstance(parser, ContestParser):\n",
        "            raise TypeError(\"parser must be an instance of ContestParser\")\n",
        "\n",
        "        self.name = name.upper()\n",
        "        self.team_list = parser.parse(filepaths)\n",
        "\n",
        "        self.max_solved = 0\n",
        "        self.institution_map = {}\n",
        "\n",
        "        for team in self.team_list:\n",
        "            self.max_solved = max(self.max_solved, team.solved)\n",
        "\n",
        "            if team.institution not in self.institution_map: self.institution_map[team.institution] = []\n",
        "            self.institution_map[team.institution].append(team)\n",
        "\n",
        "    def __repr__(self):\n",
        "        return json.dumps({\n",
        "            \"name\": self.name,\n",
        "            \"max_solved\": self.max_solved,\n",
        "            \"team_list\": [team.__dict__ for team in self.team_list],\n",
        "            \"institution_map\": {k: [team.__dict__ for team in v] for k, v in self.institution_map.items()}\n",
        "        }, indent=4)"
      ]
    },
    {
      "cell_type": "markdown",
      "metadata": {},
      "source": [
        "# Define Institution Class"
      ]
    },
    {
      "cell_type": "code",
      "execution_count": null,
      "metadata": {
        "id": "hB8bf32TT2tI"
      },
      "outputs": [],
      "source": [
        "class Institution:\n",
        "    def __init__(self, name, alt_names=[]):\n",
        "        self.name = name.upper()\n",
        "        self.alt_names = [alt_name.upper() for alt_name in alt_names]\n",
        "        self.contest_map = {}\n",
        "\n",
        "    def add_contest(self, contest):\n",
        "        name = self.name\n",
        "        alt_names = self.alt_names\n",
        "        institution_map = contest.institution_map\n",
        "        contest_name = contest.name\n",
        "\n",
        "        contest_team_list = []\n",
        "\n",
        "        if name in institution_map:\n",
        "            contest_team_list.extend(institution_map[name])\n",
        "\n",
        "        for alt_name in alt_names:\n",
        "            if alt_name in institution_map:\n",
        "                contest_team_list.extend(institution_map[alt_name])\n",
        "\n",
        "        if len(contest_team_list) > 0:\n",
        "            self.contest_map[contest_name] = sorted(contest_team_list)\n",
        "\n",
        "    def get_contest_teams(self, contest_name):\n",
        "        if contest_name in self.contest_map:\n",
        "            return self.contest_map[contest_name]\n",
        "        return None\n",
        "\n",
        "    def __repr__(self):\n",
        "        return json.dumps({\n",
        "            \"name\": self.name,\n",
        "            \"alt_names\": self.alt_names,\n",
        "            \"contest_map\": {\n",
        "                contest_name: [team.__dict__ for team in teams]\n",
        "                for contest_name, teams in self.contest_map.items()\n",
        "            }\n",
        "        }, indent=4)"
      ]
    },
    {
      "cell_type": "markdown",
      "metadata": {},
      "source": [
        "# Load Data"
      ]
    },
    {
      "cell_type": "code",
      "execution_count": null,
      "metadata": {
        "id": "eNvP1wCb5wAC"
      },
      "outputs": [],
      "source": [
        "def load_contests_from_json(file_path):\n",
        "    contest_dir = \"./input/contest_files/\"\n",
        "    contests = {}\n",
        "\n",
        "    with open(file_path, \"r\") as file:\n",
        "        data = json.load(file)\n",
        "\n",
        "        for contest in data[\"contests\"]:\n",
        "            name = contest[\"name\"]\n",
        "            filepaths = [contest_dir + filename for filename in contest[\"filenames\"]]\n",
        "            parser = ContestParser.get_parser(contest[\"parser\"])\n",
        "            contests[name] = Contest(name, filepaths, parser)\n",
        "\n",
        "    return contests\n",
        "\n",
        "def load_institutions_from_json(file_path):\n",
        "    institutions = []\n",
        "\n",
        "    with open(file_path, \"r\") as file:\n",
        "        data = json.load(file)\n",
        "        for institution in data[\"institutions\"]:\n",
        "            name = institution[\"name\"]\n",
        "            alt_names = institution.get(\"alt_names\", [])\n",
        "            institutions.append(Institution(name, alt_names))\n",
        "    return institutions"
      ]
    },
    {
      "cell_type": "code",
      "execution_count": null,
      "metadata": {
        "id": "QbbVy9LBV5jq"
      },
      "outputs": [],
      "source": [
        "contests_file_path = \"./input/contests.json\"\n",
        "contests = load_contests_from_json(contests_file_path)\n",
        "\n",
        "institutions_file_path = \"./input/institutions.json\"\n",
        "institutions = load_institutions_from_json(institutions_file_path)"
      ]
    },
    {
      "cell_type": "code",
      "execution_count": null,
      "metadata": {},
      "outputs": [],
      "source": [
        "for institution in institutions:\n",
        "    for contest in contests.values():\n",
        "        institution.add_contest(contest)"
      ]
    },
    {
      "cell_type": "code",
      "execution_count": null,
      "metadata": {},
      "outputs": [],
      "source": [
        "credits_file_path = \"./input/credits.json\"\n",
        "with open(credits_file_path, \"r\") as file: credits_map = json.load(file)"
      ]
    },
    {
      "cell_type": "code",
      "execution_count": null,
      "metadata": {},
      "outputs": [],
      "source": [
        "options_file_path = \"./input/options.json\"\n",
        "with open(options_file_path, \"r\") as file: options_map = json.load(file)"
      ]
    },
    {
      "cell_type": "markdown",
      "metadata": {},
      "source": [
        "# Define GradeCalculator Class"
      ]
    },
    {
      "cell_type": "code",
      "execution_count": null,
      "metadata": {
        "id": "iC7nNl8hcE2R"
      },
      "outputs": [],
      "source": [
        "class GradeCalculator:\n",
        "    def get_grade_point(self, institution, contest_name):\n",
        "        contest_teams = institution.get_contest_teams(contest_name)\n",
        "        if not contest_teams: return None\n",
        "\n",
        "        contest = contests[contest_name]\n",
        "\n",
        "        best4 = sorted(contest_teams)[:4]\n",
        "        team_grades = []\n",
        "\n",
        "        decay_rate = 0.02\n",
        "        for team in best4:\n",
        "            grade = 4 * (1 - decay_rate) ** (team.rank - 1) * (team.solved / contest.max_solved) ** (1/2)\n",
        "\n",
        "            team_grades.append(grade)\n",
        "\n",
        "        k = 3.14159\n",
        "        lk_norm = np.mean(np.array(team_grades) ** k) ** (1 / k)\n",
        "        return lk_norm\n",
        "    \n",
        "    def get_cgpa(self, institution_list, credits_map):\n",
        "        contest_name_list = list(credits_map.keys())\n",
        "\n",
        "        marksheet = pd.DataFrame(\n",
        "            index=[inst.name for inst in institution_list],\n",
        "            columns=[contest_name + \" GP\" for contest_name in contest_name_list]\n",
        "        )\n",
        "\n",
        "        marksheet[\"GP L2\"] = 0.0\n",
        "        marksheet[\"Credit L2\"] = 0.0\n",
        "\n",
        "        for institution in institution_list:\n",
        "            for contest_name in contest_name_list:\n",
        "                credit = credits_map[contest_name]\n",
        "                gp = self.get_grade_point(institution, contest_name)\n",
        "                marksheet.at[institution.name, contest_name + \" GP\"] = gp\n",
        "\n",
        "                if gp is not None:\n",
        "                    marksheet.at[institution.name, \"GP L2\"] += (gp * credit) ** 2\n",
        "                    marksheet.at[institution.name, \"Credit L2\"] += credit ** 2\n",
        "\n",
        "        marksheet.loc[marksheet[\"Credit L2\"] > 0, \"CGPA\"] = (marksheet[\"GP L2\"] / marksheet[\"Credit L2\"]) ** (1 / 2)\n",
        "        marksheet.loc[marksheet[\"Credit L2\"] == 0, \"CGPA\"] = 0\n",
        "        \n",
        "        marksheet.drop(columns=[\"GP L2\", \"Credit L2\"], inplace=True)\n",
        "        marksheet = marksheet.infer_objects(copy=False)\n",
        "\n",
        "        return marksheet"
      ]
    },
    {
      "cell_type": "markdown",
      "metadata": {},
      "source": [
        "# Perform Calculations"
      ]
    },
    {
      "cell_type": "code",
      "execution_count": null,
      "metadata": {
        "colab": {
          "base_uri": "https://localhost:8080/",
          "height": 551
        },
        "id": "RJD03aaQ-rCR",
        "outputId": "71ba4301-3a21-4291-8388-d2da6b69a55f"
      },
      "outputs": [],
      "source": [
        "calculator = GradeCalculator()\n",
        "\n",
        "marksheet = calculator.get_cgpa(institutions, credits_map)\n",
        "ranked_df = marksheet.sort_values(by=\"CGPA\", ascending=False)\n",
        "display(ranked_df)"
      ]
    },
    {
      "cell_type": "markdown",
      "metadata": {},
      "source": [
        "# Export Results"
      ]
    },
    {
      "cell_type": "code",
      "execution_count": null,
      "metadata": {},
      "outputs": [],
      "source": [
        "contest_list = [contest for contest in contests.values()]"
      ]
    },
    {
      "cell_type": "code",
      "execution_count": null,
      "metadata": {},
      "outputs": [],
      "source": [
        "with open(\"./output/contests.json\", \"w\") as file:\n",
        "    json.dump(json.loads(contest_list.__repr__()), file, indent=4)"
      ]
    },
    {
      "cell_type": "code",
      "execution_count": null,
      "metadata": {},
      "outputs": [],
      "source": [
        "with open(\"./output/institutions.json\", \"w\") as file:\n",
        "    json.dump(json.loads(institutions.__repr__()), file, indent=4)"
      ]
    },
    {
      "cell_type": "code",
      "execution_count": null,
      "metadata": {},
      "outputs": [],
      "source": [
        "marksheet_df = ranked_df.reset_index()\n",
        "marksheet_df.rename(columns={\"index\": \"Institution\"}, inplace=True)\n",
        "\n",
        "os.makedirs('output', exist_ok=True)\n",
        "marksheet_df.to_csv(\"./output/marksheet.csv\", index=False)"
      ]
    },
    {
      "cell_type": "markdown",
      "metadata": {},
      "source": [
        "# Automatic Slot Distribution"
      ]
    },
    {
      "cell_type": "code",
      "execution_count": null,
      "metadata": {},
      "outputs": [],
      "source": [
        "def distribute_slots(marksheet_df, total_slots, max_slots):\n",
        "    institution_cgpa = dict(zip(marksheet_df['Institution'], marksheet_df['CGPA']))\n",
        "    allocated_slots = {institution: 1 for institution in institution_cgpa}\n",
        "    total_allocated = len(allocated_slots)\n",
        "    pq = [(-cgpa / 2, institution) for institution, cgpa in institution_cgpa.items()]\n",
        "    heapq.heapify(pq)\n",
        "    \n",
        "    while total_allocated < total_slots and pq:\n",
        "        _, institution = heapq.heappop(pq)\n",
        "        \n",
        "        if allocated_slots[institution] < max_slots:\n",
        "            allocated_slots[institution] += 1\n",
        "            total_allocated += 1\n",
        "            new_quotient = -institution_cgpa[institution] / (allocated_slots[institution] + 1)\n",
        "            heapq.heappush(pq, (new_quotient, institution))\n",
        "    \n",
        "    return pd.DataFrame(\n",
        "        {'Institution': allocated_slots.keys(), 'CGPA': institution_cgpa.values(), 'Slots': allocated_slots.values()}\n",
        "    )"
      ]
    },
    {
      "cell_type": "code",
      "execution_count": null,
      "metadata": {},
      "outputs": [],
      "source": [
        "total_slots = options_map['Total Slots']\n",
        "max_slots = options_map['Max Slots']\n",
        "slots_df = distribute_slots(marksheet_df, total_slots, max_slots)\n",
        "display(slots_df)"
      ]
    },
    {
      "cell_type": "code",
      "execution_count": null,
      "metadata": {},
      "outputs": [],
      "source": [
        "os.makedirs('output', exist_ok=True)\n",
        "slots_df.to_csv(\"./output/slots.csv\", index=False)"
      ]
    },
    {
      "cell_type": "markdown",
      "metadata": {},
      "source": [
        "## Generate Excel Sheet"
      ]
    },
    {
      "cell_type": "code",
      "execution_count": null,
      "metadata": {},
      "outputs": [],
      "source": [
        "def round_floats_in_df(df, precision=6):\n",
        "    rounded_df = df.copy()\n",
        "    for col in rounded_df.select_dtypes(include='float'):\n",
        "        rounded_df[col] = rounded_df[col].round(precision)\n",
        "    return rounded_df\n",
        "\n",
        "def col_letter(col_num):\n",
        "    result = ''\n",
        "\n",
        "    while col_num >= 0:\n",
        "        result = chr(col_num % 26 + ord('A')) + result\n",
        "        col_num = col_num // 26 - 1\n",
        "\n",
        "    return result"
      ]
    },
    {
      "cell_type": "code",
      "execution_count": null,
      "metadata": {},
      "outputs": [],
      "source": [
        "def write_header(worksheet, df):\n",
        "    for col_num, col_name in enumerate(df.columns):\n",
        "        worksheet.write(0, col_num, col_name)\n",
        "\n",
        "def write_rows(slots_ws, df, general_col, reserved_col, total_col):\n",
        "    for row in range(len(df)):\n",
        "        excel_row = row + 2\n",
        "        general_cell = f\"{col_letter(general_col)}{excel_row}\"\n",
        "        reserved_cell = f\"{col_letter(reserved_col)}{excel_row}\"\n",
        "        formula = f\"={general_cell}+{reserved_cell}\"\n",
        "        slots_ws.write_formula(row + 1, total_col, formula)"
      ]
    },
    {
      "cell_type": "code",
      "execution_count": null,
      "metadata": {},
      "outputs": [],
      "source": [
        "def apply_alternating_colors(workbook, worksheet, df, colors):\n",
        "    header_format = workbook.add_format({'bg_color': colors[0], 'font_color': 'white'})\n",
        "    worksheet.set_row(0, None, header_format)\n",
        "\n",
        "    num_rows = len(df)\n",
        "    num_cols = len(df.columns)\n",
        "    col_range = f\"A2:{col_letter(num_cols - 1)}{num_rows + 1}\"\n",
        "\n",
        "    worksheet.conditional_format(col_range, {\n",
        "        'type': 'formula',\n",
        "        'criteria': '=ISEVEN(ROW())',\n",
        "        'format': workbook.add_format({'bg_color': colors[1]}),\n",
        "    })\n",
        "\n",
        "    worksheet.conditional_format(col_range, {\n",
        "        'type': 'formula',\n",
        "        'criteria': '=ISODD(ROW())',\n",
        "        'format': workbook.add_format({'bg_color': colors[2]}),\n",
        "    })\n",
        "\n",
        "def autofit_columns(worksheet, df):\n",
        "    for col_num, column in enumerate(df.columns):\n",
        "        max_width = max(df[column].astype(str).map(len).max(), len(column)) + 2\n",
        "        worksheet.set_column(col_num, col_num, max_width)"
      ]
    },
    {
      "cell_type": "code",
      "execution_count": null,
      "metadata": {},
      "outputs": [],
      "source": [
        "def lock_sheet(worksheet):\n",
        "    worksheet.protect()\n",
        "\n",
        "def unlock_columns(worksheet, col_indices, start_row, end_row, df):\n",
        "    unlocked_format = worksheet.book.add_format({'locked': False})\n",
        "    for row in range(start_row, end_row + 1):\n",
        "        for col in col_indices:\n",
        "            value = df.iloc[row - 1, col]\n",
        "            worksheet.write(row, col, value, unlocked_format)\n",
        "\n",
        "def generateExcelSheet(marksheet_df, slots_df):\n",
        "    slots_sheet_df = slots_df.copy()\n",
        "    slots_sheet_df.rename(columns={'Slots': 'General Slots'}, inplace=True)\n",
        "    slots_sheet_df['Reserved Slots'] = 0\n",
        "    slots_sheet_df['Total Slots'] = ''\n",
        "    slots_sheet_df['Explanation for Reserved Slots'] = ''\n",
        "\n",
        "    slots_sheet_df = round_floats_in_df(slots_sheet_df)\n",
        "    rounded_marksheet_df = round_floats_in_df(marksheet_df)\n",
        "\n",
        "    os.makedirs('output', exist_ok=True)\n",
        "    output_file = 'output/Slot Distribution.xlsx'\n",
        "\n",
        "    colors = ['#535FC1', '#C9DAF8', '#FFFFFF']\n",
        "\n",
        "    with pd.ExcelWriter(output_file, engine='xlsxwriter') as writer:\n",
        "        workbook = writer.book\n",
        "\n",
        "        slots_sheet_df.to_excel(writer, sheet_name='Slots', index=False, header=False, startrow=1)\n",
        "        slots_ws = writer.sheets['Slots']\n",
        "        slots_ws.book = workbook\n",
        "\n",
        "        write_header(slots_ws, slots_sheet_df)\n",
        "\n",
        "        general_col = slots_sheet_df.columns.get_loc('General Slots')\n",
        "        reserved_col = slots_sheet_df.columns.get_loc('Reserved Slots')\n",
        "        total_col = slots_sheet_df.columns.get_loc('Total Slots')\n",
        "        explanation_col = slots_sheet_df.columns.get_loc('Explanation for Reserved Slots')\n",
        "\n",
        "        write_rows(slots_ws, slots_sheet_df, general_col, reserved_col, total_col)\n",
        "        \n",
        "        apply_alternating_colors(workbook, slots_ws, slots_sheet_df, colors)\n",
        "        autofit_columns(slots_ws, slots_sheet_df)\n",
        "\n",
        "        lock_sheet(slots_ws)\n",
        "        editable_cols = [reserved_col, explanation_col]\n",
        "        unlock_columns(slots_ws, editable_cols, 1, len(slots_sheet_df), slots_sheet_df)\n",
        "\n",
        "        rounded_marksheet_df.to_excel(writer, sheet_name='Marksheet', index=False, header=False, startrow=1)\n",
        "        marksheet_ws = writer.sheets['Marksheet']\n",
        "        marksheet_ws.book = workbook\n",
        "\n",
        "        write_header(marksheet_ws, rounded_marksheet_df)\n",
        "        apply_alternating_colors(workbook, marksheet_ws, rounded_marksheet_df, colors)\n",
        "        autofit_columns(marksheet_ws, rounded_marksheet_df)\n",
        "\n",
        "        lock_sheet(marksheet_ws)"
      ]
    },
    {
      "cell_type": "code",
      "execution_count": null,
      "metadata": {},
      "outputs": [],
      "source": [
        "generateExcelSheet(marksheet_df, slots_df)"
      ]
    }
  ],
  "metadata": {
    "colab": {
      "provenance": []
    },
    "kernelspec": {
      "display_name": "Python 3",
      "name": "python3"
    },
    "language_info": {
      "codemirror_mode": {
        "name": "ipython",
        "version": 3
      },
      "file_extension": ".py",
      "mimetype": "text/x-python",
      "name": "python",
      "nbconvert_exporter": "python",
      "pygments_lexer": "ipython3",
      "version": "3.13.2"
    }
  },
  "nbformat": 4,
  "nbformat_minor": 0
}
