{
 "cells": [
  {
   "cell_type": "markdown",
   "metadata": {},
   "source": [
    "# Import Libraries"
   ]
  },
  {
   "cell_type": "code",
   "execution_count": null,
   "metadata": {},
   "outputs": [],
   "source": [
    "from heapdict import heapdict\n",
    "import os\n",
    "import json\n",
    "\n",
    "import pandas as pd"
   ]
  },
  {
   "cell_type": "markdown",
   "metadata": {},
   "source": [
    "# Load Data"
   ]
  },
  {
   "cell_type": "code",
   "execution_count": null,
   "metadata": {},
   "outputs": [],
   "source": [
    "institutions_file_path = \"./result/institutions.json\"\n",
    "with open(institutions_file_path, \"r\") as file: institutions = json.load(file)"
   ]
  },
  {
   "cell_type": "code",
   "execution_count": null,
   "metadata": {},
   "outputs": [],
   "source": [
    "registered_institutions_file_path = \"./input/distribution/registered.txt\""
   ]
  },
  {
   "cell_type": "code",
   "execution_count": null,
   "metadata": {},
   "outputs": [],
   "source": [
    "marksheet_df = pd.read_csv(\"./result/marksheet.csv\")"
   ]
  },
  {
   "cell_type": "code",
   "execution_count": null,
   "metadata": {},
   "outputs": [],
   "source": [
    "options_file_path = \"./input/distribution/options.json\"\n",
    "with open(options_file_path, \"r\") as file: options_map = json.load(file)"
   ]
  },
  {
   "cell_type": "markdown",
   "metadata": {},
   "source": [
    "# Distribute Slots"
   ]
  },
  {
   "cell_type": "code",
   "execution_count": null,
   "metadata": {},
   "outputs": [],
   "source": [
    "def get_registered_institution_names(institutions, file_path):\n",
    "    registered_names_set = set()\n",
    "\n",
    "    with open(file_path, \"r\") as txt_file:\n",
    "        target_names = set(line.strip().upper() for line in txt_file if line.strip())\n",
    "\n",
    "    for institution in institutions:\n",
    "        all_names = [institution[\"name\"]] + institution[\"alt_names\"]\n",
    "        if any(n.upper() in target_names for n in all_names):\n",
    "            registered_names_set.add(institution[\"name\"])\n",
    "            \n",
    "            for n in all_names:\n",
    "                target_names.discard(n.upper())\n",
    "\n",
    "    if target_names:\n",
    "        raise ValueError(f\"Unrecognized registered institutions: {sorted(target_names)}\")\n",
    "\n",
    "    return registered_names_set\n",
    "\n",
    "def filter_marksheet(marksheet_df, registered_names_set):\n",
    "    registered_marksheet_df = marksheet_df[marksheet_df[\"Institution\"].isin(registered_names_set)].copy()\n",
    "    return registered_marksheet_df"
   ]
  },
  {
   "cell_type": "code",
   "execution_count": null,
   "metadata": {},
   "outputs": [],
   "source": [
    "def distribute_slots(marksheet_df, total_slots, max_slots):\n",
    "    # Replace NaN ratings with 0 and convert to integers\n",
    "    marksheet_df['Rating'] = marksheet_df['Rating'].fillna(0).astype(int)\n",
    "    \n",
    "    institution_rating = dict(zip(marksheet_df['Institution'], marksheet_df['Rating']))\n",
    "    allocated_slots = {institution: 1 for institution in institution_rating}\n",
    "    total_allocated = len(allocated_slots)\n",
    "\n",
    "    pq = heapdict()\n",
    "    for institution, rating in institution_rating.items():\n",
    "        pq[institution] = -rating / 2\n",
    "\n",
    "    while total_allocated < total_slots and pq:\n",
    "        institution, _ = pq.popitem()\n",
    "        \n",
    "        if allocated_slots[institution] < max_slots:\n",
    "            allocated_slots[institution] += 1\n",
    "            total_allocated += 1\n",
    "\n",
    "            new_priority = -institution_rating[institution] / (allocated_slots[institution] + 1)\n",
    "            pq[institution] = new_priority\n",
    "\n",
    "    return pd.DataFrame({\n",
    "        'Institution': allocated_slots.keys(),\n",
    "        'Rating': institution_rating.values(),\n",
    "        'Slots': allocated_slots.values()\n",
    "    })"
   ]
  },
  {
   "cell_type": "code",
   "execution_count": null,
   "metadata": {},
   "outputs": [],
   "source": [
    "registered_names_set = get_registered_institution_names(institutions, registered_institutions_file_path)\n",
    "registered_marksheet_df = filter_marksheet(marksheet_df, registered_names_set)"
   ]
  },
  {
   "cell_type": "code",
   "execution_count": null,
   "metadata": {},
   "outputs": [],
   "source": [
    "total_slots = options_map['total_slots']\n",
    "max_slots = options_map['max_slots']\n",
    "slots_df = distribute_slots(registered_marksheet_df, total_slots, max_slots)\n",
    "display(slots_df)"
   ]
  },
  {
   "cell_type": "markdown",
   "metadata": {},
   "source": [
    "# Generate Excel Sheet"
   ]
  },
  {
   "cell_type": "code",
   "execution_count": null,
   "metadata": {},
   "outputs": [],
   "source": [
    "def round_floats_in_df(df, precision=6):\n",
    "    rounded_df = df.copy()\n",
    "    for col in rounded_df.select_dtypes(include='float'):\n",
    "        rounded_df[col] = rounded_df[col].round(precision)\n",
    "    return rounded_df\n",
    "\n",
    "def col_letter(col_num):\n",
    "    result = ''\n",
    "\n",
    "    while col_num >= 0:\n",
    "        result = chr(col_num % 26 + ord('A')) + result\n",
    "        col_num = col_num // 26 - 1\n",
    "\n",
    "    return result"
   ]
  },
  {
   "cell_type": "code",
   "execution_count": null,
   "metadata": {},
   "outputs": [],
   "source": [
    "def write_header(worksheet, df):\n",
    "    for col_num, col_name in enumerate(df.columns):\n",
    "        worksheet.write(0, col_num, col_name)\n",
    "\n",
    "def write_rows(slots_ws, df, general_col, reserved_col, total_col):\n",
    "    for row in range(len(df)):\n",
    "        excel_row = row + 2\n",
    "        general_cell = f\"{col_letter(general_col)}{excel_row}\"\n",
    "        reserved_cell = f\"{col_letter(reserved_col)}{excel_row}\"\n",
    "        formula = f\"={general_cell}+{reserved_cell}\"\n",
    "        slots_ws.write_formula(row + 1, total_col, formula)"
   ]
  },
  {
   "cell_type": "code",
   "execution_count": null,
   "metadata": {},
   "outputs": [],
   "source": [
    "def apply_alternating_colors(workbook, worksheet, df, colors):\n",
    "    header_format = workbook.add_format({'bg_color': colors[0], 'font_color': 'white'})\n",
    "    worksheet.set_row(0, None, header_format)\n",
    "\n",
    "    num_rows = len(df)\n",
    "    num_cols = len(df.columns)\n",
    "    col_range = f\"A2:{col_letter(num_cols - 1)}{num_rows + 1}\"\n",
    "\n",
    "    worksheet.conditional_format(col_range, {\n",
    "        'type': 'formula',\n",
    "        'criteria': '=ISEVEN(ROW())',\n",
    "        'format': workbook.add_format({'bg_color': colors[1]}),\n",
    "    })\n",
    "\n",
    "    worksheet.conditional_format(col_range, {\n",
    "        'type': 'formula',\n",
    "        'criteria': '=ISODD(ROW())',\n",
    "        'format': workbook.add_format({'bg_color': colors[2]}),\n",
    "    })\n",
    "\n",
    "def autofit_columns(worksheet, df):\n",
    "    for col_num, column in enumerate(df.columns):\n",
    "        max_width = max(df[column].astype(str).map(len).max(), len(column)) + 2\n",
    "        worksheet.set_column(col_num, col_num, max_width)"
   ]
  },
  {
   "cell_type": "code",
   "execution_count": null,
   "metadata": {},
   "outputs": [],
   "source": [
    "def lock_sheet(worksheet):\n",
    "    worksheet.protect()\n",
    "\n",
    "def unlock_columns(worksheet, col_indices, start_row, end_row, df):\n",
    "    unlocked_format = worksheet.book.add_format({'locked': False})\n",
    "    for row in range(start_row, end_row + 1):\n",
    "        for col in col_indices:\n",
    "            value = df.iloc[row - 1, col]\n",
    "            worksheet.write(row, col, value, unlocked_format)\n",
    "\n",
    "def generateExcelSheet(marksheet_df, slots_df):\n",
    "    slots_sheet_df = slots_df.copy()\n",
    "    slots_sheet_df.rename(columns={'Slots': 'General Slots'}, inplace=True)\n",
    "    slots_sheet_df['Reserved Slots'] = 0\n",
    "    slots_sheet_df['Total Slots'] = ''\n",
    "    slots_sheet_df['Explanation for Reserved Slots'] = ''\n",
    "\n",
    "    slots_sheet_df = round_floats_in_df(slots_sheet_df)\n",
    "    rounded_marksheet_df = round_floats_in_df(marksheet_df)\n",
    "\n",
    "    os.makedirs('output', exist_ok=True)\n",
    "    output_file = 'output/slots.xlsx'\n",
    "\n",
    "    colors = ['#535FC1', '#C9DAF8', '#FFFFFF']\n",
    "\n",
    "    with pd.ExcelWriter(output_file, engine='xlsxwriter') as writer:\n",
    "        workbook = writer.book\n",
    "\n",
    "        slots_sheet_df.to_excel(writer, sheet_name='Slots', index=False, header=False, startrow=1)\n",
    "        slots_ws = writer.sheets['Slots']\n",
    "        slots_ws.book = workbook\n",
    "\n",
    "        write_header(slots_ws, slots_sheet_df)\n",
    "\n",
    "        general_col = slots_sheet_df.columns.get_loc('General Slots')\n",
    "        reserved_col = slots_sheet_df.columns.get_loc('Reserved Slots')\n",
    "        total_col = slots_sheet_df.columns.get_loc('Total Slots')\n",
    "        explanation_col = slots_sheet_df.columns.get_loc('Explanation for Reserved Slots')\n",
    "\n",
    "        write_rows(slots_ws, slots_sheet_df, general_col, reserved_col, total_col)\n",
    "        \n",
    "        apply_alternating_colors(workbook, slots_ws, slots_sheet_df, colors)\n",
    "        autofit_columns(slots_ws, slots_sheet_df)\n",
    "\n",
    "        lock_sheet(slots_ws)\n",
    "        editable_cols = [reserved_col, explanation_col]\n",
    "        unlock_columns(slots_ws, editable_cols, 1, len(slots_sheet_df), slots_sheet_df)\n",
    "\n",
    "        rounded_marksheet_df.to_excel(writer, sheet_name='Marksheet', index=False, header=False, startrow=1)\n",
    "        marksheet_ws = writer.sheets['Marksheet']\n",
    "        marksheet_ws.book = workbook\n",
    "\n",
    "        write_header(marksheet_ws, rounded_marksheet_df)\n",
    "        apply_alternating_colors(workbook, marksheet_ws, rounded_marksheet_df, colors)\n",
    "        autofit_columns(marksheet_ws, rounded_marksheet_df)\n",
    "\n",
    "        lock_sheet(marksheet_ws)"
   ]
  },
  {
   "cell_type": "code",
   "execution_count": null,
   "metadata": {},
   "outputs": [],
   "source": [
    "generateExcelSheet(registered_marksheet_df, slots_df)"
   ]
  }
 ],
 "metadata": {
  "kernelspec": {
   "display_name": "iupcrank",
   "language": "python",
   "name": "python3"
  },
  "language_info": {
   "codemirror_mode": {
    "name": "ipython",
    "version": 3
   },
   "file_extension": ".py",
   "mimetype": "text/x-python",
   "name": "python",
   "nbconvert_exporter": "python",
   "pygments_lexer": "ipython3",
   "version": "3.13.2"
  }
 },
 "nbformat": 4,
 "nbformat_minor": 2
}
